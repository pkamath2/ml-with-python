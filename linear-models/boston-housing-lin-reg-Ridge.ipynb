{
 "cells": [
  {
   "cell_type": "code",
   "execution_count": 1,
   "metadata": {
    "collapsed": true
   },
   "outputs": [],
   "source": [
    "import mglearn\n",
    "import sklearn\n",
    "%matplotlib inline\n",
    "import matplotlib.pyplot as plt"
   ]
  },
  {
   "cell_type": "code",
   "execution_count": 2,
   "metadata": {
    "collapsed": true
   },
   "outputs": [],
   "source": [
    "X,y = mglearn.datasets.load_extended_boston()"
   ]
  },
  {
   "cell_type": "code",
   "execution_count": 7,
   "metadata": {
    "collapsed": true
   },
   "outputs": [],
   "source": [
    "X_train,X_test,y_train,y_test = sklearn.model_selection.train_test_split(X,y)"
   ]
  },
  {
   "cell_type": "code",
   "execution_count": 8,
   "metadata": {
    "collapsed": false
   },
   "outputs": [
    {
     "data": {
      "text/plain": [
       "Ridge(alpha=1.0, copy_X=True, fit_intercept=True, max_iter=None,\n",
       "   normalize=False, random_state=None, solver='auto', tol=0.001)"
      ]
     },
     "execution_count": 8,
     "metadata": {},
     "output_type": "execute_result"
    }
   ],
   "source": [
    "ridge = sklearn.linear_model.Ridge()\n",
    "ridge.fit(X_train,y_train)"
   ]
  },
  {
   "cell_type": "code",
   "execution_count": 9,
   "metadata": {
    "collapsed": false
   },
   "outputs": [
    {
     "name": "stdout",
     "output_type": "stream",
     "text": [
      "Training Score:\n",
      "0.8662286886543972\n",
      "Training Slope/Coef/Weight:[ -1.54117044e+00  -1.45730755e+00  -5.87302516e-01   7.37900757e-01\n",
      "   1.14910930e+00   8.74227738e+00   7.70181838e-01  -5.36425647e+00\n",
      "   4.27985622e+00  -9.21731684e-01  -1.44122350e+00   1.55422118e+00\n",
      "  -3.43870195e+00   5.70766807e-01   8.20908002e-03  -9.79635873e-01\n",
      "   1.41823302e+00  -1.24845016e+00  -1.97084421e+00  -1.12201323e+00\n",
      "  -2.56841738e-01  -1.71519015e+00  -1.50518186e+00  -1.31304808e+00\n",
      "  -2.78936673e+00  -7.01483943e-01   2.77859013e+00  -1.11438011e+00\n",
      "   2.88221391e+00   5.52003589e-01   4.53927103e+00  -2.59529822e-01\n",
      "  -1.39504023e+00  -9.17188044e-02  -6.08776349e-01   8.22114616e-01\n",
      "  -8.51284320e-01  -1.59417549e+00   2.81336322e+00   4.85275616e-01\n",
      "   9.29437488e-02  -4.96482119e+00   1.96714157e+00  -2.97259384e+00\n",
      "   1.25492855e+00   2.75297289e+00  -1.11017158e+00  -2.81091316e-03\n",
      "  -2.30074256e+00   7.37900757e-01  -4.59266055e+00  -5.88692381e+00\n",
      "   8.17973871e-01  -1.35219300e+00   3.57113104e+00   3.01410652e+00\n",
      "   2.87931785e+00   8.25079656e-01  -4.85268590e-01  -3.05078126e+00\n",
      "  -2.74911562e+00  -2.38609818e+00  -6.65104823e-01  -2.01888908e+00\n",
      "  -1.24026419e+00  -2.40847909e+00   1.19349199e+00  -1.78100838e+00\n",
      "   1.74830845e+01  -1.87803627e+00   2.66497718e+00  -7.81988742e+00\n",
      "  -9.84196577e+00  -4.69121380e+00   9.48268757e+00  -6.82470085e+00\n",
      "   1.90642844e+00  -1.63867490e+00   2.85595785e+00   7.11944350e-01\n",
      "  -3.01101128e+00  -1.41216153e+00  -4.35599545e+00   1.01009590e+00\n",
      "  -8.54434857e-01  -2.82380490e+00   2.73793617e-01  -4.70088527e+00\n",
      "   3.14293600e-01   3.55598789e-01   7.15288273e-01   2.04217102e+00\n",
      "   2.98138543e+00  -8.06156137e+00   1.07018098e+00   2.46313243e+00\n",
      "  -1.03928291e+00  -6.08455132e+00   4.75013793e-01  -1.49617503e+00\n",
      "  -1.41630913e+00  -6.26932226e-01  -4.81074347e+00   9.27211634e+00], Intercept:20.85012917892397\n"
     ]
    }
   ],
   "source": [
    "print(\"Training Score:\\n{}\".format(ridge.score(X_train,y_train)))\n",
    "print(\"Training Slope/Coef/Weight:{}, Intercept:{}\".format(ridge.coef_,ridge.intercept_))"
   ]
  },
  {
   "cell_type": "code",
   "execution_count": 11,
   "metadata": {
    "collapsed": false
   },
   "outputs": [
    {
     "name": "stdout",
     "output_type": "stream",
     "text": [
      "Test Score:\n",
      "0.8170742235880983\n"
     ]
    }
   ],
   "source": [
    "print(\"Test Score:\\n{}\".format(ridge.score(X_test,y_test)))\n",
    "#print(\"Test Slope/Coef/Weight:{}, Intercept:{}\".format(ridge.coef_,ridge.intercept_))"
   ]
  },
  {
   "cell_type": "code",
   "execution_count": null,
   "metadata": {
    "collapsed": true
   },
   "outputs": [],
   "source": []
  }
 ],
 "metadata": {
  "anaconda-cloud": {},
  "kernelspec": {
   "display_name": "Python [default]",
   "language": "python",
   "name": "python3"
  },
  "language_info": {
   "codemirror_mode": {
    "name": "ipython",
    "version": 3
   },
   "file_extension": ".py",
   "mimetype": "text/x-python",
   "name": "python",
   "nbconvert_exporter": "python",
   "pygments_lexer": "ipython3",
   "version": "3.5.2"
  }
 },
 "nbformat": 4,
 "nbformat_minor": 2
}
