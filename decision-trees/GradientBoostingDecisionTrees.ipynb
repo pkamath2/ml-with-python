{
 "cells": [
  {
   "cell_type": "code",
   "execution_count": 23,
   "metadata": {
    "collapsed": false
   },
   "outputs": [],
   "source": [
    "import sklearn\n",
    "from sklearn.ensemble import GradientBoostingClassifier\n",
    "from sklearn.model_selection import train_test_split\n",
    "from sklearn.datasets import load_breast_cancer\n",
    "import numpy as np"
   ]
  },
  {
   "cell_type": "code",
   "execution_count": 14,
   "metadata": {
    "collapsed": false
   },
   "outputs": [],
   "source": [
    "cancer = load_breast_cancer()\n",
    "X_train,X_test,y_train,y_test = train_test_split(cancer.data, cancer.target, random_state=0)"
   ]
  },
  {
   "cell_type": "code",
   "execution_count": 16,
   "metadata": {
    "collapsed": false
   },
   "outputs": [
    {
     "name": "stdout",
     "output_type": "stream",
     "text": [
      "Training score:\n",
      "1.0\n",
      "Test score:\n",
      "0.958041958041958\n"
     ]
    }
   ],
   "source": [
    "clf = GradientBoostingClassifier(random_state=0)\n",
    "clf.fit(X_train, y_train)\n",
    "print(\"Training score:\\n{}\".format(clf.score(X_train,y_train)))\n",
    "print(\"Test score:\\n{}\".format(clf.score(X_test,y_test)))\n",
    "## This model is overfit. 100% accuracy on Training"
   ]
  },
  {
   "cell_type": "code",
   "execution_count": 18,
   "metadata": {
    "collapsed": false
   },
   "outputs": [
    {
     "name": "stdout",
     "output_type": "stream",
     "text": [
      "Training score:\n",
      "0.9272300469483568\n",
      "Test score:\n",
      "0.958041958041958\n"
     ]
    }
   ],
   "source": [
    "####Pre-Pruning. Reduce max-depth\n",
    "clf = GradientBoostingClassifier(random_state=0, max_depth=1, learning_rate=0.01)\n",
    "clf.fit(X_train, y_train)\n",
    "print(\"Training score:\\n{}\".format(clf.score(X_train,y_train)))\n",
    "print(\"Test score:\\n{}\".format(clf.score(X_test,y_test)))"
   ]
  },
  {
   "cell_type": "code",
   "execution_count": 22,
   "metadata": {
    "collapsed": false
   },
   "outputs": [
    {
     "name": "stdout",
     "output_type": "stream",
     "text": [
      "X shape:\n",
      "(143, 30)\n",
      "Decision function:\n",
      "(143,)\n",
      "Decision function:\n",
      "[-0.37650488  1.56486539  1.56486539  1.36631401  1.56486539  1.56486539\n",
      "  1.56486539  1.56486539  1.56486539  1.56486539]\n",
      "Decision function:\n",
      "[[ 0.59302985  0.40697015]\n",
      " [ 0.1729496   0.8270504 ]\n",
      " [ 0.1729496   0.8270504 ]\n",
      " [ 0.20321603  0.79678397]\n",
      " [ 0.1729496   0.8270504 ]\n",
      " [ 0.1729496   0.8270504 ]\n",
      " [ 0.1729496   0.8270504 ]\n",
      " [ 0.1729496   0.8270504 ]\n",
      " [ 0.1729496   0.8270504 ]\n",
      " [ 0.1729496   0.8270504 ]\n",
      " [ 0.44085441  0.55914559]\n",
      " [ 0.19941572  0.80058428]\n",
      " [ 0.1729496   0.8270504 ]\n",
      " [ 0.41876517  0.58123483]\n",
      " [ 0.47258199  0.52741801]\n",
      " [ 0.73740118  0.26259882]\n",
      " [ 0.3338544   0.6661456 ]\n",
      " [ 0.73740118  0.26259882]\n",
      " [ 0.73740118  0.26259882]\n",
      " [ 0.73740118  0.26259882]\n",
      " [ 0.73740118  0.26259882]\n",
      " [ 0.73740118  0.26259882]\n",
      " [ 0.3338544   0.6661456 ]\n",
      " [ 0.1729496   0.8270504 ]\n",
      " [ 0.73740118  0.26259882]\n",
      " [ 0.1729496   0.8270504 ]\n",
      " [ 0.1729496   0.8270504 ]\n",
      " [ 0.59302985  0.40697015]\n",
      " [ 0.1729496   0.8270504 ]\n",
      " [ 0.73740118  0.26259882]\n",
      " [ 0.1729496   0.8270504 ]\n",
      " [ 0.73740118  0.26259882]\n",
      " [ 0.19201774  0.80798226]\n",
      " [ 0.63325759  0.36674241]\n",
      " [ 0.1729496   0.8270504 ]\n",
      " [ 0.63592841  0.36407159]\n",
      " [ 0.1729496   0.8270504 ]\n",
      " [ 0.63325759  0.36674241]\n",
      " [ 0.19941572  0.80058428]\n",
      " [ 0.73740118  0.26259882]\n",
      " [ 0.3094667   0.6905333 ]\n",
      " [ 0.1729496   0.8270504 ]\n",
      " [ 0.41876517  0.58123483]\n",
      " [ 0.1729496   0.8270504 ]\n",
      " [ 0.40584665  0.59415335]\n",
      " [ 0.73740118  0.26259882]\n",
      " [ 0.1729496   0.8270504 ]\n",
      " [ 0.1729496   0.8270504 ]\n",
      " [ 0.1729496   0.8270504 ]\n",
      " [ 0.73740118  0.26259882]\n",
      " [ 0.73740118  0.26259882]\n",
      " [ 0.70083433  0.29916567]\n",
      " [ 0.63325759  0.36674241]\n",
      " [ 0.1729496   0.8270504 ]\n",
      " [ 0.1729496   0.8270504 ]\n",
      " [ 0.1729496   0.8270504 ]\n",
      " [ 0.1729496   0.8270504 ]\n",
      " [ 0.1729496   0.8270504 ]\n",
      " [ 0.1729496   0.8270504 ]\n",
      " [ 0.73740118  0.26259882]\n",
      " [ 0.59302985  0.40697015]\n",
      " [ 0.73740118  0.26259882]\n",
      " [ 0.1729496   0.8270504 ]\n",
      " [ 0.1729496   0.8270504 ]\n",
      " [ 0.73740118  0.26259882]\n",
      " [ 0.1729496   0.8270504 ]\n",
      " [ 0.73740118  0.26259882]\n",
      " [ 0.73740118  0.26259882]\n",
      " [ 0.73740118  0.26259882]\n",
      " [ 0.1729496   0.8270504 ]\n",
      " [ 0.29819013  0.70180987]\n",
      " [ 0.73740118  0.26259882]\n",
      " [ 0.1729496   0.8270504 ]\n",
      " [ 0.3338544   0.6661456 ]\n",
      " [ 0.73740118  0.26259882]\n",
      " [ 0.1729496   0.8270504 ]\n",
      " [ 0.1729496   0.8270504 ]\n",
      " [ 0.3338544   0.6661456 ]\n",
      " [ 0.1729496   0.8270504 ]\n",
      " [ 0.1729496   0.8270504 ]\n",
      " [ 0.63325759  0.36674241]\n",
      " [ 0.73740118  0.26259882]\n",
      " [ 0.73740118  0.26259882]\n",
      " [ 0.1729496   0.8270504 ]\n",
      " [ 0.73740118  0.26259882]\n",
      " [ 0.1729496   0.8270504 ]\n",
      " [ 0.1729496   0.8270504 ]\n",
      " [ 0.1729496   0.8270504 ]\n",
      " [ 0.73740118  0.26259882]\n",
      " [ 0.73740118  0.26259882]\n",
      " [ 0.1729496   0.8270504 ]\n",
      " [ 0.45018296  0.54981704]\n",
      " [ 0.33744509  0.66255491]\n",
      " [ 0.73740118  0.26259882]\n",
      " [ 0.1729496   0.8270504 ]\n",
      " [ 0.1729496   0.8270504 ]\n",
      " [ 0.73740118  0.26259882]\n",
      " [ 0.32036086  0.67963914]\n",
      " [ 0.1729496   0.8270504 ]\n",
      " [ 0.1729496   0.8270504 ]\n",
      " [ 0.1729496   0.8270504 ]\n",
      " [ 0.1729496   0.8270504 ]\n",
      " [ 0.19941572  0.80058428]\n",
      " [ 0.1729496   0.8270504 ]\n",
      " [ 0.73740118  0.26259882]\n",
      " [ 0.30603622  0.69396378]\n",
      " [ 0.73740118  0.26259882]\n",
      " [ 0.30603622  0.69396378]\n",
      " [ 0.41876517  0.58123483]\n",
      " [ 0.60307747  0.39692253]\n",
      " [ 0.1729496   0.8270504 ]\n",
      " [ 0.73740118  0.26259882]\n",
      " [ 0.73740118  0.26259882]\n",
      " [ 0.44085441  0.55914559]\n",
      " [ 0.1729496   0.8270504 ]\n",
      " [ 0.1729496   0.8270504 ]\n",
      " [ 0.45018296  0.54981704]\n",
      " [ 0.1729496   0.8270504 ]\n",
      " [ 0.1729496   0.8270504 ]\n",
      " [ 0.1729496   0.8270504 ]\n",
      " [ 0.1729496   0.8270504 ]\n",
      " [ 0.1729496   0.8270504 ]\n",
      " [ 0.56875177  0.43124823]\n",
      " [ 0.3338544   0.6661456 ]\n",
      " [ 0.73740118  0.26259882]\n",
      " [ 0.3338544   0.6661456 ]\n",
      " [ 0.3094667   0.6905333 ]\n",
      " [ 0.1729496   0.8270504 ]\n",
      " [ 0.1729496   0.8270504 ]\n",
      " [ 0.1729496   0.8270504 ]\n",
      " [ 0.73740118  0.26259882]\n",
      " [ 0.1729496   0.8270504 ]\n",
      " [ 0.1729496   0.8270504 ]\n",
      " [ 0.3338544   0.6661456 ]\n",
      " [ 0.19201774  0.80798226]\n",
      " [ 0.1729496   0.8270504 ]\n",
      " [ 0.27212967  0.72787033]\n",
      " [ 0.33744509  0.66255491]\n",
      " [ 0.73740118  0.26259882]\n",
      " [ 0.1729496   0.8270504 ]\n",
      " [ 0.1729496   0.8270504 ]\n",
      " [ 0.30603622  0.69396378]\n",
      " [ 0.73740118  0.26259882]]\n"
     ]
    }
   ],
   "source": [
    "##Uncertainty estimates: Using decision_function and predict_proba\n",
    "print(\"X shape:\\n{}\".format(X_test.shape))\n",
    "print(\"Decision function:\\n{}\".format(clf.decision_function(X_test).shape))\n",
    "print(\"Decision function:\\n{}\".format(clf.decision_function(X_test)[:10]))\n",
    "print(\"Decision function:\\n{}\".format(clf.predict_proba(X_test)))"
   ]
  },
  {
   "cell_type": "code",
   "execution_count": 25,
   "metadata": {
    "collapsed": false
   },
   "outputs": [
    {
     "name": "stdout",
     "output_type": "stream",
     "text": [
      "Decision function:\n",
      "1\n"
     ]
    }
   ],
   "source": [
    "print(\"Decision function:\\n{}\".format(np.argmax(clf.decision_function(X_test)[:10]),axis=1))"
   ]
  },
  {
   "cell_type": "code",
   "execution_count": null,
   "metadata": {
    "collapsed": true
   },
   "outputs": [],
   "source": []
  }
 ],
 "metadata": {
  "anaconda-cloud": {},
  "kernelspec": {
   "display_name": "Python [default]",
   "language": "python",
   "name": "python3"
  },
  "language_info": {
   "codemirror_mode": {
    "name": "ipython",
    "version": 3
   },
   "file_extension": ".py",
   "mimetype": "text/x-python",
   "name": "python",
   "nbconvert_exporter": "python",
   "pygments_lexer": "ipython3",
   "version": "3.5.2"
  }
 },
 "nbformat": 4,
 "nbformat_minor": 2
}
