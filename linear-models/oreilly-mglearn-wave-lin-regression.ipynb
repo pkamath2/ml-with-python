{
 "cells": [
  {
   "cell_type": "code",
   "execution_count": 31,
   "metadata": {
    "collapsed": true
   },
   "outputs": [],
   "source": [
    "import sklearn\n",
    "import mglearn\n",
    "%matplotlib inline\n",
    "import matplotlib.pyplot as plt"
   ]
  },
  {
   "cell_type": "code",
   "execution_count": 32,
   "metadata": {
    "collapsed": false
   },
   "outputs": [],
   "source": [
    "wave = mglearn.datasets.make_wave()\n",
    "data = wave[0]\n",
    "target = wave[1]"
   ]
  },
  {
   "cell_type": "code",
   "execution_count": 33,
   "metadata": {
    "collapsed": true
   },
   "outputs": [],
   "source": [
    "data_train,data_test,target_train,target_test=sklearn.model_selection.train_test_split(data, target)"
   ]
  },
  {
   "cell_type": "code",
   "execution_count": 34,
   "metadata": {
    "collapsed": true
   },
   "outputs": [],
   "source": [
    "#####################################################################################################################\n",
    "###################################### Linear Regression #############################################################\n",
    "#####################################################################################################################"
   ]
  },
  {
   "cell_type": "code",
   "execution_count": 35,
   "metadata": {
    "collapsed": false
   },
   "outputs": [
    {
     "name": "stdout",
     "output_type": "stream",
     "text": [
      "Training score:\n",
      "0.6441038542262512\n"
     ]
    }
   ],
   "source": [
    "lr = sklearn.linear_model.LinearRegression()\n",
    "lr.fit(data_train, target_train)\n",
    "print(\"Training score:\\n{}\".format(lr.score(data_train,target_train)))"
   ]
  },
  {
   "cell_type": "code",
   "execution_count": 36,
   "metadata": {
    "collapsed": false
   },
   "outputs": [
    {
     "name": "stdout",
     "output_type": "stream",
     "text": [
      "Weights/Coef_:[ 0.44173995] ; Intercept:0.03768297702840075\n"
     ]
    }
   ],
   "source": [
    "print(\"Weights/Coef_:{} ; Intercept:{}\".format(lr.coef_,lr.intercept_))"
   ]
  },
  {
   "cell_type": "code",
   "execution_count": 37,
   "metadata": {
    "collapsed": false
   },
   "outputs": [
    {
     "name": "stdout",
     "output_type": "stream",
     "text": [
      "Test Data score:\n",
      "0.5552488840974331\n"
     ]
    }
   ],
   "source": [
    "print(\"Test Data score:\\n{}\".format(lr.score(data_test,target_test)))"
   ]
  },
  {
   "cell_type": "code",
   "execution_count": 38,
   "metadata": {
    "collapsed": false
   },
   "outputs": [
    {
     "name": "stdout",
     "output_type": "stream",
     "text": [
      "Weights/Coef_:[ 0.44173995] ; Intercept:0.03768297702840075\n"
     ]
    }
   ],
   "source": [
    "print(\"Weights/Coef_:{} ; Intercept:{}\".format(lr.coef_,lr.intercept_))"
   ]
  },
  {
   "cell_type": "code",
   "execution_count": 39,
   "metadata": {
    "collapsed": true
   },
   "outputs": [],
   "source": [
    "#####################################################################################################################\n",
    "###################################### Lasso Regression #############################################################\n",
    "#####################################################################################################################"
   ]
  },
  {
   "cell_type": "code",
   "execution_count": 48,
   "metadata": {
    "collapsed": false
   },
   "outputs": [
    {
     "name": "stdout",
     "output_type": "stream",
     "text": [
      "Training score:\n",
      "0.26110286503831825\n",
      "Testing score:\n",
      "0.27400981882240716\n",
      "Lasso Coef:\n",
      "[ 0.10110542]\n"
     ]
    }
   ],
   "source": [
    "lasso = sklearn.linear_model.Lasso(max_iter=100000)\n",
    "lasso.fit(data_train,target_train)\n",
    "print(\"Training score:\\n{}\".format(lasso.score(data_train,target_train)))\n",
    "print(\"Testing score:\\n{}\".format(lasso.score(data_test,target_test)))\n",
    "print(\"Lasso Coef:\\n{}\".format(lasso.coef_))"
   ]
  },
  {
   "cell_type": "code",
   "execution_count": 55,
   "metadata": {
    "collapsed": false
   },
   "outputs": [
    {
     "name": "stdout",
     "output_type": "stream",
     "text": [
      "Training score:\n",
      "0.6402738443343718\n",
      "Testing score:\n",
      "0.5717274653094557\n",
      "Lasso Coef:\n",
      "[ 0.4076765]\n"
     ]
    }
   ],
   "source": [
    "lasso001 = sklearn.linear_model.Lasso(alpha=0.1,max_iter=100000)\n",
    "lasso001.fit(data_train,target_train)\n",
    "print(\"Training score:\\n{}\".format(lasso001.score(data_train,target_train)))\n",
    "print(\"Testing score:\\n{}\".format(lasso001.score(data_test,target_test)))\n",
    "print(\"Lasso Coef:\\n{}\".format(lasso001.coef_))"
   ]
  },
  {
   "cell_type": "code",
   "execution_count": 56,
   "metadata": {
    "collapsed": false
   },
   "outputs": [
    {
     "name": "stdout",
     "output_type": "stream",
     "text": [
      "Training score:\n",
      "0.6441038503962412\n",
      "Testing score:\n",
      "0.5552703135547843\n",
      "Lasso Coef:\n",
      "[ 0.44170589]\n"
     ]
    }
   ],
   "source": [
    "lasso0001 = sklearn.linear_model.Lasso(alpha=0.0001,max_iter=100000)\n",
    "lasso0001.fit(data_train,target_train)\n",
    "print(\"Training score:\\n{}\".format(lasso0001.score(data_train,target_train)))\n",
    "print(\"Testing score:\\n{}\".format(lasso0001.score(data_test,target_test)))\n",
    "print(\"Lasso Coef:\\n{}\".format(lasso0001.coef_))"
   ]
  },
  {
   "cell_type": "code",
   "execution_count": 57,
   "metadata": {
    "collapsed": false
   },
   "outputs": [
    {
     "data": {
      "text/plain": [
       "<matplotlib.legend.Legend at 0x11af94eb8>"
      ]
     },
     "execution_count": 57,
     "metadata": {},
     "output_type": "execute_result"
    },
    {
     "data": {
      "image/png": "[encoded data removed]",
      "text/plain": [
       "<matplotlib.figure.Figure at 0x11af38d30>"
      ]
     },
     "metadata": {},
     "output_type": "display_data"
    }
   ],
   "source": [
    "##Plot the Coefficients for all alphas Lasso Regression\n",
    "plt.plot(lasso.coef_,'s',label=\"lasso alpha=1\")\n",
    "plt.plot(lasso001.coef_,'v',label=\"lasso alpha=1\")\n",
    "plt.plot(lasso0001.coef_,'^',label=\"lasso alpha=1\")\n",
    "plt.ylim(0,0.5)\n",
    "plt.legend()"
   ]
  },
  {
   "cell_type": "code",
   "execution_count": null,
   "metadata": {
    "collapsed": true
   },
   "outputs": [],
   "source": []
  }
 ],
 "metadata": {
  "anaconda-cloud": {},
  "kernelspec": {
   "display_name": "Python [default]",
   "language": "python",
   "name": "python3"
  },
  "language_info": {
   "codemirror_mode": {
    "name": "ipython",
    "version": 3
   },
   "file_extension": ".py",
   "mimetype": "text/x-python",
   "name": "python",
   "nbconvert_exporter": "python",
   "pygments_lexer": "ipython3",
   "version": "3.5.2"
  }
 },
 "nbformat": 4,
 "nbformat_minor": 2
}
