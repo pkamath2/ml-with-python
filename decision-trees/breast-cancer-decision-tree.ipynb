{
 "cells": [
  {
   "cell_type": "code",
   "execution_count": 51,
   "metadata": {
    "collapsed": false
   },
   "outputs": [],
   "source": [
    "import sklearn\n",
    "from sklearn import datasets\n",
    "from sklearn.tree import DecisionTreeClassifier, export_graphviz\n",
    "import graphviz\n",
    "%matplotlib inline\n",
    "import matplotlib.pyplot as plt\n",
    "import numpy as np"
   ]
  },
  {
   "cell_type": "code",
   "execution_count": 52,
   "metadata": {
    "collapsed": false
   },
   "outputs": [
    {
     "name": "stdout",
     "output_type": "stream",
     "text": [
      "{'target': array([0, 0, 0, 0, 0, 0, 0, 0, 0, 0, 0, 0, 0, 0, 0, 0, 0, 0, 0, 1, 1, 1, 0,\n",
      "       0, 0, 0, 0, 0, 0, 0, 0, 0, 0, 0, 0, 0, 0, 1, 0, 0, 0, 0, 0, 0, 0, 0,\n",
      "       1, 0, 1, 1, 1, 1, 1, 0, 0, 1, 0, 0, 1, 1, 1, 1, 0, 1, 0, 0, 1, 1, 1,\n",
      "       1, 0, 1, 0, 0, 1, 0, 1, 0, 0, 1, 1, 1, 0, 0, 1, 0, 0, 0, 1, 1, 1, 0,\n",
      "       1, 1, 0, 0, 1, 1, 1, 0, 0, 1, 1, 1, 1, 0, 1, 1, 0, 1, 1, 1, 1, 1, 1,\n",
      "       1, 1, 0, 0, 0, 1, 0, 0, 1, 1, 1, 0, 0, 1, 0, 1, 0, 0, 1, 0, 0, 1, 1,\n",
      "       0, 1, 1, 0, 1, 1, 1, 1, 0, 1, 1, 1, 1, 1, 1, 1, 1, 1, 0, 1, 1, 1, 1,\n",
      "       0, 0, 1, 0, 1, 1, 0, 0, 1, 1, 0, 0, 1, 1, 1, 1, 0, 1, 1, 0, 0, 0, 1,\n",
      "       0, 1, 0, 1, 1, 1, 0, 1, 1, 0, 0, 1, 0, 0, 0, 0, 1, 0, 0, 0, 1, 0, 1,\n",
      "       0, 1, 1, 0, 1, 0, 0, 0, 0, 1, 1, 0, 0, 1, 1, 1, 0, 1, 1, 1, 1, 1, 0,\n",
      "       0, 1, 1, 0, 1, 1, 0, 0, 1, 0, 1, 1, 1, 1, 0, 1, 1, 1, 1, 1, 0, 1, 0,\n",
      "       0, 0, 0, 0, 0, 0, 0, 0, 0, 0, 0, 0, 0, 1, 1, 1, 1, 1, 1, 0, 1, 0, 1,\n",
      "       1, 0, 1, 1, 0, 1, 0, 0, 1, 1, 1, 1, 1, 1, 1, 1, 1, 1, 1, 1, 1, 0, 1,\n",
      "       1, 0, 1, 0, 1, 1, 1, 1, 1, 1, 1, 1, 1, 1, 1, 1, 1, 1, 0, 1, 1, 1, 0,\n",
      "       1, 0, 1, 1, 1, 1, 0, 0, 0, 1, 1, 1, 1, 0, 1, 0, 1, 0, 1, 1, 1, 0, 1,\n",
      "       1, 1, 1, 1, 1, 1, 0, 0, 0, 1, 1, 1, 1, 1, 1, 1, 1, 1, 1, 1, 0, 0, 1,\n",
      "       0, 0, 0, 1, 0, 0, 1, 1, 1, 1, 1, 0, 1, 1, 1, 1, 1, 0, 1, 1, 1, 0, 1,\n",
      "       1, 0, 0, 1, 1, 1, 1, 1, 1, 0, 1, 1, 1, 1, 1, 1, 1, 0, 1, 1, 1, 1, 1,\n",
      "       0, 1, 1, 0, 1, 1, 1, 1, 1, 1, 1, 1, 1, 1, 1, 1, 0, 1, 0, 0, 1, 0, 1,\n",
      "       1, 1, 1, 1, 0, 1, 1, 0, 1, 0, 1, 1, 0, 1, 0, 1, 1, 1, 1, 1, 1, 1, 1,\n",
      "       0, 0, 1, 1, 1, 1, 1, 1, 0, 1, 1, 1, 1, 1, 1, 1, 1, 1, 1, 0, 1, 1, 1,\n",
      "       1, 1, 1, 1, 0, 1, 0, 1, 1, 0, 1, 1, 1, 1, 1, 0, 0, 1, 0, 1, 0, 1, 1,\n",
      "       1, 1, 1, 0, 1, 1, 0, 1, 0, 1, 0, 0, 1, 1, 1, 0, 1, 1, 1, 1, 1, 1, 1,\n",
      "       1, 1, 1, 1, 0, 1, 0, 0, 1, 1, 1, 1, 1, 1, 1, 1, 1, 1, 1, 1, 1, 1, 1,\n",
      "       1, 1, 1, 1, 1, 1, 1, 1, 1, 1, 0, 0, 0, 0, 0, 0, 1]), 'target_names': array(['malignant', 'benign'], \n",
      "      dtype='<U9'), 'DESCR': 'Breast Cancer Wisconsin (Diagnostic) Database\\n=============================================\\n\\nNotes\\n-----\\nData Set Characteristics:\\n    :Number of Instances: 569\\n\\n    :Number of Attributes: 30 numeric, predictive attributes and the class\\n\\n    :Attribute Information:\\n        - radius (mean of distances from center to points on the perimeter)\\n        - texture (standard deviation of gray-scale values)\\n        - perimeter\\n        - area\\n        - smoothness (local variation in radius lengths)\\n        - compactness (perimeter^2 / area - 1.0)\\n        - concavity (severity of concave portions of the contour)\\n        - concave points (number of concave portions of the contour)\\n        - symmetry \\n        - fractal dimension (\"coastline approximation\" - 1)\\n\\n        The mean, standard error, and \"worst\" or largest (mean of the three\\n        largest values) of these features were computed for each image,\\n        resulting in 30 features.  For instance, field 3 is Mean Radius, field\\n        13 is Radius SE, field 23 is Worst Radius.\\n\\n        - class:\\n                - WDBC-Malignant\\n                - WDBC-Benign\\n\\n    :Summary Statistics:\\n\\n    ===================================== ====== ======\\n                                           Min    Max\\n    ===================================== ====== ======\\n    radius (mean):                        6.981  28.11\\n    texture (mean):                       9.71   39.28\\n    perimeter (mean):                     43.79  188.5\\n    area (mean):                          143.5  2501.0\\n    smoothness (mean):                    0.053  0.163\\n    compactness (mean):                   0.019  0.345\\n    concavity (mean):                     0.0    0.427\\n    concave points (mean):                0.0    0.201\\n    symmetry (mean):                      0.106  0.304\\n    fractal dimension (mean):             0.05   0.097\\n    radius (standard error):              0.112  2.873\\n    texture (standard error):             0.36   4.885\\n    perimeter (standard error):           0.757  21.98\\n    area (standard error):                6.802  542.2\\n    smoothness (standard error):          0.002  0.031\\n    compactness (standard error):         0.002  0.135\\n    concavity (standard error):           0.0    0.396\\n    concave points (standard error):      0.0    0.053\\n    symmetry (standard error):            0.008  0.079\\n    fractal dimension (standard error):   0.001  0.03\\n    radius (worst):                       7.93   36.04\\n    texture (worst):                      12.02  49.54\\n    perimeter (worst):                    50.41  251.2\\n    area (worst):                         185.2  4254.0\\n    smoothness (worst):                   0.071  0.223\\n    compactness (worst):                  0.027  1.058\\n    concavity (worst):                    0.0    1.252\\n    concave points (worst):               0.0    0.291\\n    symmetry (worst):                     0.156  0.664\\n    fractal dimension (worst):            0.055  0.208\\n    ===================================== ====== ======\\n\\n    :Missing Attribute Values: None\\n\\n    :Class Distribution: 212 - Malignant, 357 - Benign\\n\\n    :Creator:  Dr. William H. Wolberg, W. Nick Street, Olvi L. Mangasarian\\n\\n    :Donor: Nick Street\\n\\n    :Date: November, 1995\\n\\nThis is a copy of UCI ML Breast Cancer Wisconsin (Diagnostic) datasets.\\nhttps://goo.gl/U2Uwz2\\n\\nFeatures are computed from a digitized image of a fine needle\\naspirate (FNA) of a breast mass.  They describe\\ncharacteristics of the cell nuclei present in the image.\\n\\nSeparating plane described above was obtained using\\nMultisurface Method-Tree (MSM-T) [K. P. Bennett, \"Decision Tree\\nConstruction Via Linear Programming.\" Proceedings of the 4th\\nMidwest Artificial Intelligence and Cognitive Science Society,\\npp. 97-101, 1992], a classification method which uses linear\\nprogramming to construct a decision tree.  Relevant features\\nwere selected using an exhaustive search in the space of 1-4\\nfeatures and 1-3 separating planes.\\n\\nThe actual linear program used to obtain the separating plane\\nin the 3-dimensional space is that described in:\\n[K. P. Bennett and O. L. Mangasarian: \"Robust Linear\\nProgramming Discrimination of Two Linearly Inseparable Sets\",\\nOptimization Methods and Software 1, 1992, 23-34].\\n\\nThis database is also available through the UW CS ftp server:\\n\\nftp ftp.cs.wisc.edu\\ncd math-prog/cpo-dataset/machine-learn/WDBC/\\n\\nReferences\\n----------\\n   - W.N. Street, W.H. Wolberg and O.L. Mangasarian. Nuclear feature extraction \\n     for breast tumor diagnosis. IS&T/SPIE 1993 International Symposium on \\n     Electronic Imaging: Science and Technology, volume 1905, pages 861-870,\\n     San Jose, CA, 1993.\\n   - O.L. Mangasarian, W.N. Street and W.H. Wolberg. Breast cancer diagnosis and \\n     prognosis via linear programming. Operations Research, 43(4), pages 570-577, \\n     July-August 1995.\\n   - W.H. Wolberg, W.N. Street, and O.L. Mangasarian. Machine learning techniques\\n     to diagnose breast cancer from fine-needle aspirates. Cancer Letters 77 (1994) \\n     163-171.\\n', 'data': array([[  1.79900000e+01,   1.03800000e+01,   1.22800000e+02, ...,\n",
      "          2.65400000e-01,   4.60100000e-01,   1.18900000e-01],\n",
      "       [  2.05700000e+01,   1.77700000e+01,   1.32900000e+02, ...,\n",
      "          1.86000000e-01,   2.75000000e-01,   8.90200000e-02],\n",
      "       [  1.96900000e+01,   2.12500000e+01,   1.30000000e+02, ...,\n",
      "          2.43000000e-01,   3.61300000e-01,   8.75800000e-02],\n",
      "       ..., \n",
      "       [  1.66000000e+01,   2.80800000e+01,   1.08300000e+02, ...,\n",
      "          1.41800000e-01,   2.21800000e-01,   7.82000000e-02],\n",
      "       [  2.06000000e+01,   2.93300000e+01,   1.40100000e+02, ...,\n",
      "          2.65000000e-01,   4.08700000e-01,   1.24000000e-01],\n",
      "       [  7.76000000e+00,   2.45400000e+01,   4.79200000e+01, ...,\n",
      "          0.00000000e+00,   2.87100000e-01,   7.03900000e-02]]), 'feature_names': array(['mean radius', 'mean texture', 'mean perimeter', 'mean area',\n",
      "       'mean smoothness', 'mean compactness', 'mean concavity',\n",
      "       'mean concave points', 'mean symmetry', 'mean fractal dimension',\n",
      "       'radius error', 'texture error', 'perimeter error', 'area error',\n",
      "       'smoothness error', 'compactness error', 'concavity error',\n",
      "       'concave points error', 'symmetry error', 'fractal dimension error',\n",
      "       'worst radius', 'worst texture', 'worst perimeter', 'worst area',\n",
      "       'worst smoothness', 'worst compactness', 'worst concavity',\n",
      "       'worst concave points', 'worst symmetry', 'worst fractal dimension'], \n",
      "      dtype='<U23')}\n"
     ]
    }
   ],
   "source": [
    "cancer = datasets.load_breast_cancer()\n",
    "print(cancer)"
   ]
  },
  {
   "cell_type": "code",
   "execution_count": 53,
   "metadata": {
    "collapsed": false
   },
   "outputs": [],
   "source": [
    "X_train,X_test,y_train,y_test = sklearn.model_selection.train_test_split(cancer.data,cancer.target,random_state=42)"
   ]
  },
  {
   "cell_type": "code",
   "execution_count": 54,
   "metadata": {
    "collapsed": true
   },
   "outputs": [],
   "source": [
    "tree = DecisionTreeClassifier(random_state=0).fit(X_train,y_train)"
   ]
  },
  {
   "cell_type": "code",
   "execution_count": 55,
   "metadata": {
    "collapsed": false
   },
   "outputs": [
    {
     "name": "stdout",
     "output_type": "stream",
     "text": [
      "Training score:\n",
      "1.0\n",
      "Testing score:\n",
      "0.9300699300699301\n"
     ]
    }
   ],
   "source": [
    "print(\"Training score:\\n{}\".format(tree.score(X_train,y_train)))\n",
    "print(\"Testing score:\\n{}\".format(tree.score(X_test,y_test)))"
   ]
  },
  {
   "cell_type": "code",
   "execution_count": 56,
   "metadata": {
    "collapsed": false
   },
   "outputs": [
    {
     "name": "stdout",
     "output_type": "stream",
     "text": [
      "Pre-Pruned Training score:\n",
      "0.9953051643192489\n",
      "Pre-Pruned Testing score:\n",
      "0.951048951048951\n"
     ]
    }
   ],
   "source": [
    "######################## 100% accuracy on training set => Overfitting. \n",
    "######################## Pre-Prune the tree using max-depth on the classifier. Atleast better score on test set. \n",
    "tree = DecisionTreeClassifier(max_depth=4,random_state=0).fit(X_train,y_train)\n",
    "print(\"Pre-Pruned Training score:\\n{}\".format(tree.score(X_train,y_train)))\n",
    "print(\"Pre-Pruned Testing score:\\n{}\".format(tree.score(X_test,y_test)))"
   ]
  },
  {
   "cell_type": "code",
   "execution_count": 57,
   "metadata": {
    "collapsed": true
   },
   "outputs": [],
   "source": [
    "export_graphviz(tree,out_file=\"tree.dot\",class_names=['malignant','benign'], feature_names=cancer.feature_names,impurity=False,filled=True)"
   ]
  },
  {
   "cell_type": "code",
   "execution_count": 58,
   "metadata": {
    "collapsed": false
   },
   "outputs": [
    {
     "data": {
      "image/svg+xml": [
       "<?xml version=\"1.0\" encoding=\"UTF-8\" standalone=\"no\"?>\n",
       "<!DOCTYPE svg PUBLIC \"-//W3C//DTD SVG 1.1//EN\"\n",
       " \"http://www.w3.org/Graphics/SVG/1.1/DTD/svg11.dtd\">\n",
       "<!-- Generated by graphviz version 2.38.0 (20140413.2041)\n",
       " -->\n",
       "<!-- Title: Tree Pages: 1 -->\n",
       "<svg width=\"1317pt\" height=\"458pt\"\n",
       " viewBox=\"0.00 0.00 1316.82 458.00\" xmlns=\"http://www.w3.org/2000/svg\" xmlns:xlink=\"http://www.w3.org/1999/xlink\">\n",
       "<g id=\"graph0\" class=\"graph\" transform=\"scale(1 1) rotate(0) translate(4 454)\">\n",
       "<title>Tree</title>\n",
       "<polygon fill=\"white\" stroke=\"none\" points=\"-4,4 -4,-454 1312.82,-454 1312.82,4 -4,4\"/>\n",
       "<!-- 0 -->\n",
       "<g id=\"node1\" class=\"node\"><title>0</title>\n",
       "<polygon fill=\"#399de5\" fill-opacity=\"0.411765\" stroke=\"black\" points=\"842.96,-450 648.577,-450 648.577,-386 842.96,-386 842.96,-450\"/>\n",
       "<text text-anchor=\"middle\" x=\"745.769\" y=\"-434.8\" font-family=\"Times,serif\" font-size=\"14.00\">mean concave points &lt;= 0.0513</text>\n",
       "<text text-anchor=\"middle\" x=\"745.769\" y=\"-420.8\" font-family=\"Times,serif\" font-size=\"14.00\">samples = 426</text>\n",
       "<text text-anchor=\"middle\" x=\"745.769\" y=\"-406.8\" font-family=\"Times,serif\" font-size=\"14.00\">value = [158, 268]</text>\n",
       "<text text-anchor=\"middle\" x=\"745.769\" y=\"-392.8\" font-family=\"Times,serif\" font-size=\"14.00\">class = benign</text>\n",
       "</g>\n",
       "<!-- 1 -->\n",
       "<g id=\"node2\" class=\"node\"><title>1</title>\n",
       "<polygon fill=\"#399de5\" fill-opacity=\"0.937255\" stroke=\"black\" points=\"691.384,-350 552.153,-350 552.153,-286 691.384,-286 691.384,-350\"/>\n",
       "<text text-anchor=\"middle\" x=\"621.769\" y=\"-334.8\" font-family=\"Times,serif\" font-size=\"14.00\">worst radius &lt;= 16.83</text>\n",
       "<text text-anchor=\"middle\" x=\"621.769\" y=\"-320.8\" font-family=\"Times,serif\" font-size=\"14.00\">samples = 267</text>\n",
       "<text text-anchor=\"middle\" x=\"621.769\" y=\"-306.8\" font-family=\"Times,serif\" font-size=\"14.00\">value = [16, 251]</text>\n",
       "<text text-anchor=\"middle\" x=\"621.769\" y=\"-292.8\" font-family=\"Times,serif\" font-size=\"14.00\">class = benign</text>\n",
       "</g>\n",
       "<!-- 0&#45;&gt;1 -->\n",
       "<g id=\"edge1\" class=\"edge\"><title>0&#45;&gt;1</title>\n",
       "<path fill=\"none\" stroke=\"black\" d=\"M706.534,-385.992C694.661,-376.608 681.493,-366.202 669.147,-356.444\"/>\n",
       "<polygon fill=\"black\" stroke=\"black\" points=\"671.189,-353.597 661.173,-350.142 666.849,-359.089 671.189,-353.597\"/>\n",
       "<text text-anchor=\"middle\" x=\"664.081\" y=\"-370.773\" font-family=\"Times,serif\" font-size=\"14.00\">True</text>\n",
       "</g>\n",
       "<!-- 14 -->\n",
       "<g id=\"node15\" class=\"node\"><title>14</title>\n",
       "<polygon fill=\"#e58139\" fill-opacity=\"0.878431\" stroke=\"black\" points=\"945.039,-350 794.498,-350 794.498,-286 945.039,-286 945.039,-350\"/>\n",
       "<text text-anchor=\"middle\" x=\"869.769\" y=\"-334.8\" font-family=\"Times,serif\" font-size=\"14.00\">worst texture &lt;= 20.405</text>\n",
       "<text text-anchor=\"middle\" x=\"869.769\" y=\"-320.8\" font-family=\"Times,serif\" font-size=\"14.00\">samples = 159</text>\n",
       "<text text-anchor=\"middle\" x=\"869.769\" y=\"-306.8\" font-family=\"Times,serif\" font-size=\"14.00\">value = [142, 17]</text>\n",
       "<text text-anchor=\"middle\" x=\"869.769\" y=\"-292.8\" font-family=\"Times,serif\" font-size=\"14.00\">class = malignant</text>\n",
       "</g>\n",
       "<!-- 0&#45;&gt;14 -->\n",
       "<g id=\"edge14\" class=\"edge\"><title>0&#45;&gt;14</title>\n",
       "<path fill=\"none\" stroke=\"black\" d=\"M785.003,-385.992C796.877,-376.608 810.044,-366.202 822.391,-356.444\"/>\n",
       "<polygon fill=\"black\" stroke=\"black\" points=\"824.688,-359.089 830.364,-350.142 820.348,-353.597 824.688,-359.089\"/>\n",
       "<text text-anchor=\"middle\" x=\"827.456\" y=\"-370.773\" font-family=\"Times,serif\" font-size=\"14.00\">False</text>\n",
       "</g>\n",
       "<!-- 2 -->\n",
       "<g id=\"node3\" class=\"node\"><title>2</title>\n",
       "<polygon fill=\"#399de5\" fill-opacity=\"0.980392\" stroke=\"black\" points=\"425.974,-250 283.563,-250 283.563,-186 425.974,-186 425.974,-250\"/>\n",
       "<text text-anchor=\"middle\" x=\"354.769\" y=\"-234.8\" font-family=\"Times,serif\" font-size=\"14.00\">radius error &lt;= 0.6256</text>\n",
       "<text text-anchor=\"middle\" x=\"354.769\" y=\"-220.8\" font-family=\"Times,serif\" font-size=\"14.00\">samples = 249</text>\n",
       "<text text-anchor=\"middle\" x=\"354.769\" y=\"-206.8\" font-family=\"Times,serif\" font-size=\"14.00\">value = [5, 244]</text>\n",
       "<text text-anchor=\"middle\" x=\"354.769\" y=\"-192.8\" font-family=\"Times,serif\" font-size=\"14.00\">class = benign</text>\n",
       "</g>\n",
       "<!-- 1&#45;&gt;2 -->\n",
       "<g id=\"edge2\" class=\"edge\"><title>1&#45;&gt;2</title>\n",
       "<path fill=\"none\" stroke=\"black\" d=\"M551.966,-291.38C516.365,-278.313 472.871,-262.348 435.797,-248.741\"/>\n",
       "<polygon fill=\"black\" stroke=\"black\" points=\"436.615,-245.313 426.022,-245.153 434.203,-251.884 436.615,-245.313\"/>\n",
       "</g>\n",
       "<!-- 9 -->\n",
       "<g id=\"node10\" class=\"node\"><title>9</title>\n",
       "<polygon fill=\"#e58139\" fill-opacity=\"0.364706\" stroke=\"black\" points=\"693.539,-250 549.998,-250 549.998,-186 693.539,-186 693.539,-250\"/>\n",
       "<text text-anchor=\"middle\" x=\"621.769\" y=\"-234.8\" font-family=\"Times,serif\" font-size=\"14.00\">worst texture &lt;= 19.91</text>\n",
       "<text text-anchor=\"middle\" x=\"621.769\" y=\"-220.8\" font-family=\"Times,serif\" font-size=\"14.00\">samples = 18</text>\n",
       "<text text-anchor=\"middle\" x=\"621.769\" y=\"-206.8\" font-family=\"Times,serif\" font-size=\"14.00\">value = [11, 7]</text>\n",
       "<text text-anchor=\"middle\" x=\"621.769\" y=\"-192.8\" font-family=\"Times,serif\" font-size=\"14.00\">class = malignant</text>\n",
       "</g>\n",
       "<!-- 1&#45;&gt;9 -->\n",
       "<g id=\"edge9\" class=\"edge\"><title>1&#45;&gt;9</title>\n",
       "<path fill=\"none\" stroke=\"black\" d=\"M621.769,-285.992C621.769,-277.859 621.769,-268.959 621.769,-260.378\"/>\n",
       "<polygon fill=\"black\" stroke=\"black\" points=\"625.269,-260.142 621.769,-250.142 618.269,-260.142 625.269,-260.142\"/>\n",
       "</g>\n",
       "<!-- 3 -->\n",
       "<g id=\"node4\" class=\"node\"><title>3</title>\n",
       "<polygon fill=\"#399de5\" fill-opacity=\"0.988235\" stroke=\"black\" points=\"254.508,-150 77.0291,-150 77.0291,-86 254.508,-86 254.508,-150\"/>\n",
       "<text text-anchor=\"middle\" x=\"165.769\" y=\"-134.8\" font-family=\"Times,serif\" font-size=\"14.00\">worst smoothness &lt;= 0.1777</text>\n",
       "<text text-anchor=\"middle\" x=\"165.769\" y=\"-120.8\" font-family=\"Times,serif\" font-size=\"14.00\">samples = 246</text>\n",
       "<text text-anchor=\"middle\" x=\"165.769\" y=\"-106.8\" font-family=\"Times,serif\" font-size=\"14.00\">value = [3, 243]</text>\n",
       "<text text-anchor=\"middle\" x=\"165.769\" y=\"-92.8\" font-family=\"Times,serif\" font-size=\"14.00\">class = benign</text>\n",
       "</g>\n",
       "<!-- 2&#45;&gt;3 -->\n",
       "<g id=\"edge3\" class=\"edge\"><title>2&#45;&gt;3</title>\n",
       "<path fill=\"none\" stroke=\"black\" d=\"M294.968,-185.992C275.836,-176.072 254.501,-165.009 234.769,-154.778\"/>\n",
       "<polygon fill=\"black\" stroke=\"black\" points=\"236.318,-151.639 225.829,-150.142 233.095,-157.853 236.318,-151.639\"/>\n",
       "</g>\n",
       "<!-- 6 -->\n",
       "<g id=\"node7\" class=\"node\"><title>6</title>\n",
       "<polygon fill=\"#e58139\" fill-opacity=\"0.498039\" stroke=\"black\" points=\"436.753,-150 272.784,-150 272.784,-86 436.753,-86 436.753,-150\"/>\n",
       "<text text-anchor=\"middle\" x=\"354.769\" y=\"-134.8\" font-family=\"Times,serif\" font-size=\"14.00\">symmetry error &lt;= 0.0247</text>\n",
       "<text text-anchor=\"middle\" x=\"354.769\" y=\"-120.8\" font-family=\"Times,serif\" font-size=\"14.00\">samples = 3</text>\n",
       "<text text-anchor=\"middle\" x=\"354.769\" y=\"-106.8\" font-family=\"Times,serif\" font-size=\"14.00\">value = [2, 1]</text>\n",
       "<text text-anchor=\"middle\" x=\"354.769\" y=\"-92.8\" font-family=\"Times,serif\" font-size=\"14.00\">class = malignant</text>\n",
       "</g>\n",
       "<!-- 2&#45;&gt;6 -->\n",
       "<g id=\"edge6\" class=\"edge\"><title>2&#45;&gt;6</title>\n",
       "<path fill=\"none\" stroke=\"black\" d=\"M354.769,-185.992C354.769,-177.859 354.769,-168.959 354.769,-160.378\"/>\n",
       "<polygon fill=\"black\" stroke=\"black\" points=\"358.269,-160.142 354.769,-150.142 351.269,-160.142 358.269,-160.142\"/>\n",
       "</g>\n",
       "<!-- 4 -->\n",
       "<g id=\"node5\" class=\"node\"><title>4</title>\n",
       "<polygon fill=\"#399de5\" fill-opacity=\"0.992157\" stroke=\"black\" points=\"105.307,-50 0.230435,-50 0.230435,-0 105.307,-0 105.307,-50\"/>\n",
       "<text text-anchor=\"middle\" x=\"52.7686\" y=\"-34.8\" font-family=\"Times,serif\" font-size=\"14.00\">samples = 245</text>\n",
       "<text text-anchor=\"middle\" x=\"52.7686\" y=\"-20.8\" font-family=\"Times,serif\" font-size=\"14.00\">value = [2, 243]</text>\n",
       "<text text-anchor=\"middle\" x=\"52.7686\" y=\"-6.8\" font-family=\"Times,serif\" font-size=\"14.00\">class = benign</text>\n",
       "</g>\n",
       "<!-- 3&#45;&gt;4 -->\n",
       "<g id=\"edge4\" class=\"edge\"><title>3&#45;&gt;4</title>\n",
       "<path fill=\"none\" stroke=\"black\" d=\"M127.196,-85.9375C115.352,-76.3993 102.336,-65.9167 90.5452,-56.4219\"/>\n",
       "<polygon fill=\"black\" stroke=\"black\" points=\"92.5919,-53.5763 82.6081,-50.0301 88.2013,-59.0282 92.5919,-53.5763\"/>\n",
       "</g>\n",
       "<!-- 5 -->\n",
       "<g id=\"node6\" class=\"node\"><title>5</title>\n",
       "<polygon fill=\"#e58139\" stroke=\"black\" points=\"237.864,-50 123.673,-50 123.673,-0 237.864,-0 237.864,-50\"/>\n",
       "<text text-anchor=\"middle\" x=\"180.769\" y=\"-34.8\" font-family=\"Times,serif\" font-size=\"14.00\">samples = 1</text>\n",
       "<text text-anchor=\"middle\" x=\"180.769\" y=\"-20.8\" font-family=\"Times,serif\" font-size=\"14.00\">value = [1, 0]</text>\n",
       "<text text-anchor=\"middle\" x=\"180.769\" y=\"-6.8\" font-family=\"Times,serif\" font-size=\"14.00\">class = malignant</text>\n",
       "</g>\n",
       "<!-- 3&#45;&gt;5 -->\n",
       "<g id=\"edge5\" class=\"edge\"><title>3&#45;&gt;5</title>\n",
       "<path fill=\"none\" stroke=\"black\" d=\"M170.889,-85.9375C172.264,-77.5916 173.759,-68.5226 175.16,-60.025\"/>\n",
       "<polygon fill=\"black\" stroke=\"black\" points=\"178.634,-60.4662 176.808,-50.0301 171.728,-59.3277 178.634,-60.4662\"/>\n",
       "</g>\n",
       "<!-- 7 -->\n",
       "<g id=\"node8\" class=\"node\"><title>7</title>\n",
       "<polygon fill=\"#e58139\" stroke=\"black\" points=\"397.864,-50 283.673,-50 283.673,-0 397.864,-0 397.864,-50\"/>\n",
       "<text text-anchor=\"middle\" x=\"340.769\" y=\"-34.8\" font-family=\"Times,serif\" font-size=\"14.00\">samples = 2</text>\n",
       "<text text-anchor=\"middle\" x=\"340.769\" y=\"-20.8\" font-family=\"Times,serif\" font-size=\"14.00\">value = [2, 0]</text>\n",
       "<text text-anchor=\"middle\" x=\"340.769\" y=\"-6.8\" font-family=\"Times,serif\" font-size=\"14.00\">class = malignant</text>\n",
       "</g>\n",
       "<!-- 6&#45;&gt;7 -->\n",
       "<g id=\"edge7\" class=\"edge\"><title>6&#45;&gt;7</title>\n",
       "<path fill=\"none\" stroke=\"black\" d=\"M349.99,-85.9375C348.706,-77.5916 347.31,-68.5226 346.003,-60.025\"/>\n",
       "<polygon fill=\"black\" stroke=\"black\" points=\"349.445,-59.3816 344.465,-50.0301 342.527,-60.446 349.445,-59.3816\"/>\n",
       "</g>\n",
       "<!-- 8 -->\n",
       "<g id=\"node9\" class=\"node\"><title>8</title>\n",
       "<polygon fill=\"#399de5\" stroke=\"black\" points=\"511.982,-50 415.555,-50 415.555,-0 511.982,-0 511.982,-50\"/>\n",
       "<text text-anchor=\"middle\" x=\"463.769\" y=\"-34.8\" font-family=\"Times,serif\" font-size=\"14.00\">samples = 1</text>\n",
       "<text text-anchor=\"middle\" x=\"463.769\" y=\"-20.8\" font-family=\"Times,serif\" font-size=\"14.00\">value = [0, 1]</text>\n",
       "<text text-anchor=\"middle\" x=\"463.769\" y=\"-6.8\" font-family=\"Times,serif\" font-size=\"14.00\">class = benign</text>\n",
       "</g>\n",
       "<!-- 6&#45;&gt;8 -->\n",
       "<g id=\"edge8\" class=\"edge\"><title>6&#45;&gt;8</title>\n",
       "<path fill=\"none\" stroke=\"black\" d=\"M391.975,-85.9375C403.29,-76.491 415.715,-66.1182 427.001,-56.6961\"/>\n",
       "<polygon fill=\"black\" stroke=\"black\" points=\"429.552,-59.1256 434.985,-50.0301 425.066,-53.7521 429.552,-59.1256\"/>\n",
       "</g>\n",
       "<!-- 10 -->\n",
       "<g id=\"node11\" class=\"node\"><title>10</title>\n",
       "<polygon fill=\"#399de5\" stroke=\"black\" points=\"550.982,-143 454.555,-143 454.555,-93 550.982,-93 550.982,-143\"/>\n",
       "<text text-anchor=\"middle\" x=\"502.769\" y=\"-127.8\" font-family=\"Times,serif\" font-size=\"14.00\">samples = 5</text>\n",
       "<text text-anchor=\"middle\" x=\"502.769\" y=\"-113.8\" font-family=\"Times,serif\" font-size=\"14.00\">value = [0, 5]</text>\n",
       "<text text-anchor=\"middle\" x=\"502.769\" y=\"-99.8\" font-family=\"Times,serif\" font-size=\"14.00\">class = benign</text>\n",
       "</g>\n",
       "<!-- 9&#45;&gt;10 -->\n",
       "<g id=\"edge10\" class=\"edge\"><title>9&#45;&gt;10</title>\n",
       "<path fill=\"none\" stroke=\"black\" d=\"M584.116,-185.992C570.114,-174.461 554.236,-161.385 540.249,-149.866\"/>\n",
       "<polygon fill=\"black\" stroke=\"black\" points=\"542.205,-146.943 532.261,-143.288 537.755,-152.347 542.205,-146.943\"/>\n",
       "</g>\n",
       "<!-- 11 -->\n",
       "<g id=\"node12\" class=\"node\"><title>11</title>\n",
       "<polygon fill=\"#e58139\" fill-opacity=\"0.819608\" stroke=\"black\" points=\"760.343,-150 569.194,-150 569.194,-86 760.343,-86 760.343,-150\"/>\n",
       "<text text-anchor=\"middle\" x=\"664.769\" y=\"-134.8\" font-family=\"Times,serif\" font-size=\"14.00\">concave points error &lt;= 0.0101</text>\n",
       "<text text-anchor=\"middle\" x=\"664.769\" y=\"-120.8\" font-family=\"Times,serif\" font-size=\"14.00\">samples = 13</text>\n",
       "<text text-anchor=\"middle\" x=\"664.769\" y=\"-106.8\" font-family=\"Times,serif\" font-size=\"14.00\">value = [11, 2]</text>\n",
       "<text text-anchor=\"middle\" x=\"664.769\" y=\"-92.8\" font-family=\"Times,serif\" font-size=\"14.00\">class = malignant</text>\n",
       "</g>\n",
       "<!-- 9&#45;&gt;11 -->\n",
       "<g id=\"edge11\" class=\"edge\"><title>9&#45;&gt;11</title>\n",
       "<path fill=\"none\" stroke=\"black\" d=\"M635.374,-185.992C639.06,-177.591 643.106,-168.371 646.985,-159.53\"/>\n",
       "<polygon fill=\"black\" stroke=\"black\" points=\"650.291,-160.706 651.104,-150.142 643.881,-157.893 650.291,-160.706\"/>\n",
       "</g>\n",
       "<!-- 12 -->\n",
       "<g id=\"node13\" class=\"node\"><title>12</title>\n",
       "<polygon fill=\"#e58139\" stroke=\"black\" points=\"689.864,-50 575.673,-50 575.673,-0 689.864,-0 689.864,-50\"/>\n",
       "<text text-anchor=\"middle\" x=\"632.769\" y=\"-34.8\" font-family=\"Times,serif\" font-size=\"14.00\">samples = 11</text>\n",
       "<text text-anchor=\"middle\" x=\"632.769\" y=\"-20.8\" font-family=\"Times,serif\" font-size=\"14.00\">value = [11, 0]</text>\n",
       "<text text-anchor=\"middle\" x=\"632.769\" y=\"-6.8\" font-family=\"Times,serif\" font-size=\"14.00\">class = malignant</text>\n",
       "</g>\n",
       "<!-- 11&#45;&gt;12 -->\n",
       "<g id=\"edge12\" class=\"edge\"><title>11&#45;&gt;12</title>\n",
       "<path fill=\"none\" stroke=\"black\" d=\"M653.845,-85.9375C650.846,-77.4081 647.581,-68.1236 644.537,-59.4655\"/>\n",
       "<polygon fill=\"black\" stroke=\"black\" points=\"647.838,-58.3027 641.219,-50.0301 641.234,-60.6249 647.838,-58.3027\"/>\n",
       "</g>\n",
       "<!-- 13 -->\n",
       "<g id=\"node14\" class=\"node\"><title>13</title>\n",
       "<polygon fill=\"#399de5\" stroke=\"black\" points=\"803.982,-50 707.555,-50 707.555,-0 803.982,-0 803.982,-50\"/>\n",
       "<text text-anchor=\"middle\" x=\"755.769\" y=\"-34.8\" font-family=\"Times,serif\" font-size=\"14.00\">samples = 2</text>\n",
       "<text text-anchor=\"middle\" x=\"755.769\" y=\"-20.8\" font-family=\"Times,serif\" font-size=\"14.00\">value = [0, 2]</text>\n",
       "<text text-anchor=\"middle\" x=\"755.769\" y=\"-6.8\" font-family=\"Times,serif\" font-size=\"14.00\">class = benign</text>\n",
       "</g>\n",
       "<!-- 11&#45;&gt;13 -->\n",
       "<g id=\"edge13\" class=\"edge\"><title>11&#45;&gt;13</title>\n",
       "<path fill=\"none\" stroke=\"black\" d=\"M695.831,-85.9375C705.094,-76.6744 715.248,-66.5207 724.523,-57.246\"/>\n",
       "<polygon fill=\"black\" stroke=\"black\" points=\"727.142,-59.5761 731.738,-50.0301 722.193,-54.6263 727.142,-59.5761\"/>\n",
       "</g>\n",
       "<!-- 15 -->\n",
       "<g id=\"node16\" class=\"node\"><title>15</title>\n",
       "<polygon fill=\"#399de5\" fill-opacity=\"0.600000\" stroke=\"black\" points=\"963.46,-250 776.077,-250 776.077,-186 963.46,-186 963.46,-250\"/>\n",
       "<text text-anchor=\"middle\" x=\"869.769\" y=\"-234.8\" font-family=\"Times,serif\" font-size=\"14.00\">mean concave points &lt;= 0.091</text>\n",
       "<text text-anchor=\"middle\" x=\"869.769\" y=\"-220.8\" font-family=\"Times,serif\" font-size=\"14.00\">samples = 14</text>\n",
       "<text text-anchor=\"middle\" x=\"869.769\" y=\"-206.8\" font-family=\"Times,serif\" font-size=\"14.00\">value = [4, 10]</text>\n",
       "<text text-anchor=\"middle\" x=\"869.769\" y=\"-192.8\" font-family=\"Times,serif\" font-size=\"14.00\">class = benign</text>\n",
       "</g>\n",
       "<!-- 14&#45;&gt;15 -->\n",
       "<g id=\"edge15\" class=\"edge\"><title>14&#45;&gt;15</title>\n",
       "<path fill=\"none\" stroke=\"black\" d=\"M869.769,-285.992C869.769,-277.859 869.769,-268.959 869.769,-260.378\"/>\n",
       "<polygon fill=\"black\" stroke=\"black\" points=\"873.269,-260.142 869.769,-250.142 866.269,-260.142 873.269,-260.142\"/>\n",
       "</g>\n",
       "<!-- 18 -->\n",
       "<g id=\"node19\" class=\"node\"><title>18</title>\n",
       "<polygon fill=\"#e58139\" fill-opacity=\"0.949020\" stroke=\"black\" points=\"1169.47,-250 1034.06,-250 1034.06,-186 1169.47,-186 1169.47,-250\"/>\n",
       "<text text-anchor=\"middle\" x=\"1101.77\" y=\"-234.8\" font-family=\"Times,serif\" font-size=\"14.00\">worst area &lt;= 718.65</text>\n",
       "<text text-anchor=\"middle\" x=\"1101.77\" y=\"-220.8\" font-family=\"Times,serif\" font-size=\"14.00\">samples = 145</text>\n",
       "<text text-anchor=\"middle\" x=\"1101.77\" y=\"-206.8\" font-family=\"Times,serif\" font-size=\"14.00\">value = [138, 7]</text>\n",
       "<text text-anchor=\"middle\" x=\"1101.77\" y=\"-192.8\" font-family=\"Times,serif\" font-size=\"14.00\">class = malignant</text>\n",
       "</g>\n",
       "<!-- 14&#45;&gt;18 -->\n",
       "<g id=\"edge18\" class=\"edge\"><title>14&#45;&gt;18</title>\n",
       "<path fill=\"none\" stroke=\"black\" d=\"M943.175,-285.992C969.068,-275.055 998.248,-262.728 1024.45,-251.659\"/>\n",
       "<polygon fill=\"black\" stroke=\"black\" points=\"1026.11,-254.758 1033.96,-247.642 1023.39,-248.309 1026.11,-254.758\"/>\n",
       "</g>\n",
       "<!-- 16 -->\n",
       "<g id=\"node17\" class=\"node\"><title>16</title>\n",
       "<polygon fill=\"#399de5\" stroke=\"black\" points=\"876.807,-143 778.73,-143 778.73,-93 876.807,-93 876.807,-143\"/>\n",
       "<text text-anchor=\"middle\" x=\"827.769\" y=\"-127.8\" font-family=\"Times,serif\" font-size=\"14.00\">samples = 10</text>\n",
       "<text text-anchor=\"middle\" x=\"827.769\" y=\"-113.8\" font-family=\"Times,serif\" font-size=\"14.00\">value = [0, 10]</text>\n",
       "<text text-anchor=\"middle\" x=\"827.769\" y=\"-99.8\" font-family=\"Times,serif\" font-size=\"14.00\">class = benign</text>\n",
       "</g>\n",
       "<!-- 15&#45;&gt;16 -->\n",
       "<g id=\"edge16\" class=\"edge\"><title>15&#45;&gt;16</title>\n",
       "<path fill=\"none\" stroke=\"black\" d=\"M856.479,-185.992C851.953,-175.431 846.872,-163.574 842.256,-152.804\"/>\n",
       "<polygon fill=\"black\" stroke=\"black\" points=\"845.334,-151.1 838.178,-143.288 838.9,-153.858 845.334,-151.1\"/>\n",
       "</g>\n",
       "<!-- 17 -->\n",
       "<g id=\"node18\" class=\"node\"><title>17</title>\n",
       "<polygon fill=\"#e58139\" stroke=\"black\" points=\"1008.86,-143 894.673,-143 894.673,-93 1008.86,-93 1008.86,-143\"/>\n",
       "<text text-anchor=\"middle\" x=\"951.769\" y=\"-127.8\" font-family=\"Times,serif\" font-size=\"14.00\">samples = 4</text>\n",
       "<text text-anchor=\"middle\" x=\"951.769\" y=\"-113.8\" font-family=\"Times,serif\" font-size=\"14.00\">value = [4, 0]</text>\n",
       "<text text-anchor=\"middle\" x=\"951.769\" y=\"-99.8\" font-family=\"Times,serif\" font-size=\"14.00\">class = malignant</text>\n",
       "</g>\n",
       "<!-- 15&#45;&gt;17 -->\n",
       "<g id=\"edge17\" class=\"edge\"><title>15&#45;&gt;17</title>\n",
       "<path fill=\"none\" stroke=\"black\" d=\"M895.714,-185.992C905.002,-174.892 915.487,-162.361 924.855,-151.165\"/>\n",
       "<polygon fill=\"black\" stroke=\"black\" points=\"927.713,-153.203 931.446,-143.288 922.345,-148.711 927.713,-153.203\"/>\n",
       "</g>\n",
       "<!-- 19 -->\n",
       "<g id=\"node20\" class=\"node\"><title>19</title>\n",
       "<polygon fill=\"#399de5\" fill-opacity=\"0.141176\" stroke=\"black\" points=\"1177.04,-150 1026.5,-150 1026.5,-86 1177.04,-86 1177.04,-150\"/>\n",
       "<text text-anchor=\"middle\" x=\"1101.77\" y=\"-134.8\" font-family=\"Times,serif\" font-size=\"14.00\">worst texture &lt;= 25.925</text>\n",
       "<text text-anchor=\"middle\" x=\"1101.77\" y=\"-120.8\" font-family=\"Times,serif\" font-size=\"14.00\">samples = 13</text>\n",
       "<text text-anchor=\"middle\" x=\"1101.77\" y=\"-106.8\" font-family=\"Times,serif\" font-size=\"14.00\">value = [6, 7]</text>\n",
       "<text text-anchor=\"middle\" x=\"1101.77\" y=\"-92.8\" font-family=\"Times,serif\" font-size=\"14.00\">class = benign</text>\n",
       "</g>\n",
       "<!-- 18&#45;&gt;19 -->\n",
       "<g id=\"edge19\" class=\"edge\"><title>18&#45;&gt;19</title>\n",
       "<path fill=\"none\" stroke=\"black\" d=\"M1101.77,-185.992C1101.77,-177.859 1101.77,-168.959 1101.77,-160.378\"/>\n",
       "<polygon fill=\"black\" stroke=\"black\" points=\"1105.27,-160.142 1101.77,-150.142 1098.27,-160.142 1105.27,-160.142\"/>\n",
       "</g>\n",
       "<!-- 22 -->\n",
       "<g id=\"node23\" class=\"node\"><title>22</title>\n",
       "<polygon fill=\"#e58139\" stroke=\"black\" points=\"1308.86,-143 1194.67,-143 1194.67,-93 1308.86,-93 1308.86,-143\"/>\n",
       "<text text-anchor=\"middle\" x=\"1251.77\" y=\"-127.8\" font-family=\"Times,serif\" font-size=\"14.00\">samples = 132</text>\n",
       "<text text-anchor=\"middle\" x=\"1251.77\" y=\"-113.8\" font-family=\"Times,serif\" font-size=\"14.00\">value = [132, 0]</text>\n",
       "<text text-anchor=\"middle\" x=\"1251.77\" y=\"-99.8\" font-family=\"Times,serif\" font-size=\"14.00\">class = malignant</text>\n",
       "</g>\n",
       "<!-- 18&#45;&gt;22 -->\n",
       "<g id=\"edge22\" class=\"edge\"><title>18&#45;&gt;22</title>\n",
       "<path fill=\"none\" stroke=\"black\" d=\"M1149.23,-185.992C1167.37,-174.137 1188.02,-160.651 1206,-148.901\"/>\n",
       "<polygon fill=\"black\" stroke=\"black\" points=\"1208.14,-151.687 1214.59,-143.288 1204.31,-145.827 1208.14,-151.687\"/>\n",
       "</g>\n",
       "<!-- 20 -->\n",
       "<g id=\"node21\" class=\"node\"><title>20</title>\n",
       "<polygon fill=\"#399de5\" stroke=\"black\" points=\"1087.98,-50 991.555,-50 991.555,-0 1087.98,-0 1087.98,-50\"/>\n",
       "<text text-anchor=\"middle\" x=\"1039.77\" y=\"-34.8\" font-family=\"Times,serif\" font-size=\"14.00\">samples = 7</text>\n",
       "<text text-anchor=\"middle\" x=\"1039.77\" y=\"-20.8\" font-family=\"Times,serif\" font-size=\"14.00\">value = [0, 7]</text>\n",
       "<text text-anchor=\"middle\" x=\"1039.77\" y=\"-6.8\" font-family=\"Times,serif\" font-size=\"14.00\">class = benign</text>\n",
       "</g>\n",
       "<!-- 19&#45;&gt;20 -->\n",
       "<g id=\"edge20\" class=\"edge\"><title>19&#45;&gt;20</title>\n",
       "<path fill=\"none\" stroke=\"black\" d=\"M1080.61,-85.9375C1074.54,-77.0413 1067.92,-67.3236 1061.81,-58.352\"/>\n",
       "<polygon fill=\"black\" stroke=\"black\" points=\"1064.66,-56.3236 1056.14,-50.0301 1058.88,-60.265 1064.66,-56.3236\"/>\n",
       "</g>\n",
       "<!-- 21 -->\n",
       "<g id=\"node22\" class=\"node\"><title>21</title>\n",
       "<polygon fill=\"#e58139\" stroke=\"black\" points=\"1219.86,-50 1105.67,-50 1105.67,-0 1219.86,-0 1219.86,-50\"/>\n",
       "<text text-anchor=\"middle\" x=\"1162.77\" y=\"-34.8\" font-family=\"Times,serif\" font-size=\"14.00\">samples = 6</text>\n",
       "<text text-anchor=\"middle\" x=\"1162.77\" y=\"-20.8\" font-family=\"Times,serif\" font-size=\"14.00\">value = [6, 0]</text>\n",
       "<text text-anchor=\"middle\" x=\"1162.77\" y=\"-6.8\" font-family=\"Times,serif\" font-size=\"14.00\">class = malignant</text>\n",
       "</g>\n",
       "<!-- 19&#45;&gt;21 -->\n",
       "<g id=\"edge21\" class=\"edge\"><title>19&#45;&gt;21</title>\n",
       "<path fill=\"none\" stroke=\"black\" d=\"M1122.59,-85.9375C1128.55,-77.0413 1135.07,-67.3236 1141.08,-58.352\"/>\n",
       "<polygon fill=\"black\" stroke=\"black\" points=\"1144,-60.2854 1146.66,-50.0301 1138.19,-56.3877 1144,-60.2854\"/>\n",
       "</g>\n",
       "</g>\n",
       "</svg>\n"
      ],
      "text/plain": [
       "<graphviz.files.Source at 0x1124988d0>"
      ]
     },
     "execution_count": 58,
     "metadata": {},
     "output_type": "execute_result"
    }
   ],
   "source": [
    "with open('tree.dot') as f:\n",
    "    dot_graph=f.read()\n",
    "graphviz.Source(dot_graph)"
   ]
  },
  {
   "cell_type": "code",
   "execution_count": 59,
   "metadata": {
    "collapsed": false
   },
   "outputs": [
    {
     "name": "stdout",
     "output_type": "stream",
     "text": [
      "Feature Importance:\n",
      "[ 0.          0.          0.          0.          0.          0.          0.\n",
      "  0.73943775  0.          0.          0.013032    0.          0.          0.\n",
      "  0.          0.          0.          0.01737208  0.00684355  0.\n",
      "  0.06019401  0.11783988  0.          0.03522339  0.01005736  0.          0.\n",
      "  0.          0.          0.        ]\n"
     ]
    }
   ],
   "source": [
    "########################  FEATURE IMPORTANCE\n",
    "feature_importances = tree.feature_importances_\n",
    "print(\"Feature Importance:\\n{}\".format(feature_importances))"
   ]
  },
  {
   "cell_type": "code",
   "execution_count": 60,
   "metadata": {
    "collapsed": false
   },
   "outputs": [
    {
     "data": {
      "text/plain": [
       "([<matplotlib.axis.YTick at 0x1129b39b0>,\n",
       "  <matplotlib.axis.YTick at 0x10eecb898>,\n",
       "  <matplotlib.axis.YTick at 0x10ddda9b0>,\n",
       "  <matplotlib.axis.YTick at 0x11006dbe0>,\n",
       "  <matplotlib.axis.YTick at 0x11003b400>,\n",
       "  <matplotlib.axis.YTick at 0x1129c2748>,\n",
       "  <matplotlib.axis.YTick at 0x1124df898>,\n",
       "  <matplotlib.axis.YTick at 0x110049940>,\n",
       "  <matplotlib.axis.YTick at 0x1048707b8>,\n",
       "  <matplotlib.axis.YTick at 0x112501a58>,\n",
       "  <matplotlib.axis.YTick at 0x1129a9940>,\n",
       "  <matplotlib.axis.YTick at 0x10f6da8d0>,\n",
       "  <matplotlib.axis.YTick at 0x10f6be5f8>,\n",
       "  <matplotlib.axis.YTick at 0x10f6be3c8>,\n",
       "  <matplotlib.axis.YTick at 0x10f4aefd0>,\n",
       "  <matplotlib.axis.YTick at 0x110071a20>,\n",
       "  <matplotlib.axis.YTick at 0x1129dd470>,\n",
       "  <matplotlib.axis.YTick at 0x1129ddf60>,\n",
       "  <matplotlib.axis.YTick at 0x11249c9b0>,\n",
       "  <matplotlib.axis.YTick at 0x1124bb400>,\n",
       "  <matplotlib.axis.YTick at 0x1124bbe10>,\n",
       "  <matplotlib.axis.YTick at 0x1124be860>,\n",
       "  <matplotlib.axis.YTick at 0x1124cd2b0>,\n",
       "  <matplotlib.axis.YTick at 0x1124cdcc0>,\n",
       "  <matplotlib.axis.YTick at 0x112470828>,\n",
       "  <matplotlib.axis.YTick at 0x112465160>,\n",
       "  <matplotlib.axis.YTick at 0x112465b70>,\n",
       "  <matplotlib.axis.YTick at 0x11245f5c0>,\n",
       "  <matplotlib.axis.YTick at 0x11245ffd0>,\n",
       "  <matplotlib.axis.YTick at 0x112485a20>],\n",
       " <a list of 30 Text yticklabel objects>)"
      ]
     },
     "execution_count": 60,
     "metadata": {},
     "output_type": "execute_result"
    },
    {
     "data": {
      "image/png": "[encoded data removed]",
      "text/plain": [
       "<matplotlib.figure.Figure at 0x1124a4da0>"
      ]
     },
     "metadata": {},
     "output_type": "display_data"
    }
   ],
   "source": [
    "n_features = cancer.feature_names.shape[0]\n",
    "plt.barh(range(n_features),feature_importances, align='center')\n",
    "plt.yticks(np.arange(n_features),cancer.feature_names)"
   ]
  },
  {
   "cell_type": "code",
   "execution_count": null,
   "metadata": {
    "collapsed": true
   },
   "outputs": [],
   "source": []
  }
 ],
 "metadata": {
  "anaconda-cloud": {},
  "kernelspec": {
   "display_name": "Python [default]",
   "language": "python",
   "name": "python3"
  },
  "language_info": {
   "codemirror_mode": {
    "name": "ipython",
    "version": 3
   },
   "file_extension": ".py",
   "mimetype": "text/x-python",
   "name": "python",
   "nbconvert_exporter": "python",
   "pygments_lexer": "ipython3",
   "version": "3.5.2"
  }
 },
 "nbformat": 4,
 "nbformat_minor": 2
}
